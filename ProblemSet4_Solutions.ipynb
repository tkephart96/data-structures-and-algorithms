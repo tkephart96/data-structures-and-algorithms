{
 "cells": [
  {
   "cell_type": "markdown",
   "metadata": {
    "deletable": false,
    "editable": false,
    "nbgrader": {
     "cell_type": "markdown",
     "checksum": "a55c6e4d82cad380b8cebb62285c516f",
     "grade": false,
     "grade_id": "cell-11e6289c84816863",
     "locked": true,
     "schema_version": 3,
     "solution": false,
     "task": false
    }
   },
   "source": [
    "# Problem Set 4\n",
    "\n",
    "In this assignment, we will explore countmin sketches and bloom filters. We will use two text files `great-gatsby-fitzgerald.txt` and `war-and-peace-tolstoy.txt` to load up the text of two famous novels courtesy of Project Guttenberg. \n",
    "\n",
    "We will explore two tasks:\n",
    "  - Counting the frequency of words of length 5 or more in both novels using a count-min sketch \n",
    "  - Using a bloom filter to approximately count how many words in the War and Peace novel already appears in the Great Gatsby."
   ]
  },
  {
   "cell_type": "markdown",
   "metadata": {
    "deletable": false,
    "editable": false,
    "nbgrader": {
     "cell_type": "markdown",
     "checksum": "f7a2a9b0f0fe586464a31d8e4ecda728",
     "grade": false,
     "grade_id": "cell-dfc8e09426234a08",
     "locked": true,
     "schema_version": 3,
     "solution": false,
     "task": false
    }
   },
   "source": [
    "## Step 1:  Making a Universal Hash Family (Already Done For You)\n",
    "\n",
    "We will use a family of hash function that first starts by (a) generating a random prime number $p$ (we will use the Miller-Rabin primality test for this purpose); (b) generating random numbers a, b between 2 and p-1.\n",
    "\n",
    "The hash function $h_{a,b,p} (n) = (an + b) \\mod p$. \n",
    "\n",
    "Note that this function will be between 0 and p-1. We will need to also make sure to take the hash value modulo $m$ where $m$ is the size of the hashtable.\n",
    "\n",
    "To hash strings, we will first use python's inbuilt hash function and then use $h_{a,b,p}$ on the result.\n",
    "\n",
    "As a first step, we will generate a random prime number.\n",
    "\n",
    "### (A) Generate Random Prime Numbers"
   ]
  },
  {
   "cell_type": "code",
   "execution_count": 1,
   "metadata": {
    "deletable": false,
    "editable": false,
    "nbgrader": {
     "cell_type": "code",
     "checksum": "655633cc8179edf1da08316324a305a5",
     "grade": false,
     "grade_id": "cell-29b403a91ab960c0",
     "locked": true,
     "schema_version": 3,
     "solution": false,
     "task": false
    }
   },
   "outputs": [
    {
     "name": "stdout",
     "output_type": "stream",
     "text": [
      "All primes smaller than 100: \n",
      "2 3 5 7 11 13 17 19 23 29 31 37 41 43 47 53 59 61 67 71 73 79 83 89 97 "
     ]
    }
   ],
   "source": [
    "# Python3 program Miller-Rabin randomized primality test\n",
    "# Copied from geeksforgeeks: https://www.geeksforgeeks.org/primality-test-set-3-miller-rabin/\n",
    "import random \n",
    "\n",
    "# Utility function to do \n",
    "# modular exponentiation. \n",
    "# It returns (x^y) % p \n",
    "def power(x, y, p): \n",
    "\t\n",
    "\t# Initialize result \n",
    "\tres = 1; \n",
    "\t\n",
    "\t# Update x if it is more than or \n",
    "\t# equal to p \n",
    "\tx = x % p; \n",
    "\twhile (y > 0): \n",
    "\t\t\n",
    "\t\t# If y is odd, multiply \n",
    "\t\t# x with result \n",
    "\t\tif (y & 1): \n",
    "\t\t\tres = (res * x) % p; \n",
    "\n",
    "\t\t# y must be even now \n",
    "\t\ty = y>>1; # y = y/2 \n",
    "\t\tx = (x * x) % p; \n",
    "\t\n",
    "\treturn res; \n",
    "\n",
    "# This function is called \n",
    "# for all k trials. It returns \n",
    "# false if n is composite and \n",
    "# returns false if n is \n",
    "# probably prime. d is an odd \n",
    "# number such that d*2<sup>r</sup> = n-1 \n",
    "# for some r >= 1 \n",
    "def millerTest(d, n): \n",
    "\t\n",
    "\t# Pick a random number in [2..n-2] \n",
    "\t# Corner cases make sure that n > 4 \n",
    "\ta = 2 + random.randint(1, n - 4); \n",
    "\n",
    "\t# Compute a^d % n \n",
    "\tx = power(a, d, n); \n",
    "\n",
    "\tif (x == 1 or x == n - 1): \n",
    "\t\treturn True; \n",
    "\n",
    "\t# Keep squaring x while one \n",
    "\t# of the following doesn't \n",
    "\t# happen \n",
    "\t# (i) d does not reach n-1 \n",
    "\t# (ii) (x^2) % n is not 1 \n",
    "\t# (iii) (x^2) % n is not n-1 \n",
    "\twhile (d != n - 1): \n",
    "\t\tx = (x * x) % n; \n",
    "\t\td *= 2; \n",
    "\n",
    "\t\tif (x == 1): \n",
    "\t\t\treturn False; \n",
    "\t\tif (x == n - 1): \n",
    "\t\t\treturn True; \n",
    "\n",
    "\t# Return composite \n",
    "\treturn False; \n",
    "\n",
    "# It returns false if n is \n",
    "# composite and returns true if n \n",
    "# is probably prime. k is an \n",
    "# input parameter that determines \n",
    "# accuracy level. Higher value of \n",
    "# k indicates more accuracy. \n",
    "def isPrime( n, k): \n",
    "\t\n",
    "\t# Corner cases \n",
    "\tif (n <= 1 or n == 4): \n",
    "\t\treturn False; \n",
    "\tif (n <= 3): \n",
    "\t\treturn True; \n",
    "\n",
    "\t# Find r such that n = \n",
    "\t# 2^d * r + 1 for some r >= 1 \n",
    "\td = n - 1; \n",
    "\twhile (d % 2 == 0): \n",
    "\t\td //= 2; \n",
    "\n",
    "\t# Iterate given number of 'k' times \n",
    "\tfor i in range(k): \n",
    "\t\tif (millerTest(d, n) == False): \n",
    "\t\t\treturn False; \n",
    "\n",
    "\treturn True; \n",
    "\n",
    "# Driver Code \n",
    "# Number of iterations \n",
    "k = 4; \n",
    "\n",
    "print(\"All primes smaller than 100: \"); \n",
    "for n in range(1,100): \n",
    "\tif (isPrime(n, k)): \n",
    "\t\tprint(n , end=\" \"); \n",
    "\n",
    "# This code is contributed by mits (see citation above)\n"
   ]
  },
  {
   "cell_type": "markdown",
   "metadata": {
    "deletable": false,
    "editable": false,
    "nbgrader": {
     "cell_type": "markdown",
     "checksum": "8ac8a3f52da6274beeda7e3ec8bbeac1",
     "grade": false,
     "grade_id": "cell-73221461b19b5567",
     "locked": true,
     "schema_version": 3,
     "solution": false,
     "task": false
    }
   },
   "source": [
    "### Step 2: Universal Hash Families\n",
    "\n",
    "We will provide three useful functions for you:\n",
    "\n",
    "  - `get_random_hash_function`: Generate triple of numbers `(p, a, b)` at random, where p is  prime, a and b are numbers between 2 and p-1. The hash function $h_{p,a,b}(n)$ is given by $ (an + b) \\mod p$.\n",
    "  \n",
    "  - `hashfun`: apply the random hash function on a number `num`.\n",
    "  - `hash_string`: apply the hash function on a string `hstr`. Note that the result is between 0 and p-1. If your hash table has size `m`, you should take a `mod m` on this result where you call `hash_string`.\n",
    "  \n",
    "  Please use these functions in your code below."
   ]
  },
  {
   "cell_type": "code",
   "execution_count": 2,
   "metadata": {
    "deletable": false,
    "editable": false,
    "nbgrader": {
     "cell_type": "code",
     "checksum": "ef7c5ab31c424ee21d9a1c3b81ff2fd8",
     "grade": false,
     "grade_id": "cell-1c9654f9fcd91883",
     "locked": true,
     "schema_version": 3,
     "solution": false,
     "task": false
    }
   },
   "outputs": [],
   "source": [
    "# Get a random triple (p, a, b) where p is prime and a,b are numbers between 2 and p-1\n",
    "def get_random_hash_function():\n",
    "    n = random.getrandbits(64)\n",
    "    if n < 0: \n",
    "        n = -n \n",
    "    if n % 2 == 0:\n",
    "        n = n + 1\n",
    "    while not isPrime(n, 20):\n",
    "        n = n + 1\n",
    "    a = random.randint(2, n-1)\n",
    "    b = random.randint(2, n-1)\n",
    "    return (n, a, b)\n",
    "\n",
    "# hash function fora number\n",
    "def hashfun(hfun_rep, num):\n",
    "    (p, a, b) = hfun_rep\n",
    "    return (a * num + b) % p\n",
    "\n",
    "# hash function for a string.\n",
    "def hash_string(hfun_rep, hstr):\n",
    "    n = hash(hstr)\n",
    "    return hashfun(hfun_rep, n)    "
   ]
  },
  {
   "cell_type": "markdown",
   "metadata": {
    "deletable": false,
    "editable": false,
    "nbgrader": {
     "cell_type": "markdown",
     "checksum": "575e46059b43af6f541a7c5e74e6e956",
     "grade": false,
     "grade_id": "cell-f383acfe5e19ce49",
     "locked": true,
     "schema_version": 3,
     "solution": false,
     "task": false
    }
   },
   "source": [
    "## Step 3: Loading Data\n",
    "\n",
    "We are going to load two files `great-gatsby-fitzgerald.txt` and `war-and-peace-tolstoy.txt` to load up the text of two famous novels courtesy of Project Guttenberg. We will filter all words of length >= 5 and also count the frequency of each word in a dictionary. This will be fast because it is going to use highly optimized hashtable (dictionaries) built into python."
   ]
  },
  {
   "cell_type": "code",
   "execution_count": 3,
   "metadata": {
    "deletable": false,
    "editable": false,
    "nbgrader": {
     "cell_type": "code",
     "checksum": "012317538b0b54757a490f1ebcf19045",
     "grade": false,
     "grade_id": "cell-22b93e681d415b67",
     "locked": true,
     "schema_version": 3,
     "solution": false,
     "task": false
    }
   },
   "outputs": [
    {
     "name": "stdout",
     "output_type": "stream",
     "text": [
      "21342\n",
      "8849\n"
     ]
    }
   ],
   "source": [
    "# Let us load the \"Great Gatsby\" novel and extract all words of length 5 or more\n",
    "filename = 'great-gatsby-fitzgerald.txt'\n",
    "file = open (filename,'r')\n",
    "txt = file.read()\n",
    "txt = txt.replace('\\n',' ')\n",
    "words= txt.split(' ')\n",
    "longer_words_gg = list(filter(lambda s: len(s) >= 5, words))\n",
    "print(len(longer_words_gg))\n",
    "# Let us count the precise word frequencies\n",
    "word_freq_gg = {}\n",
    "for elt in longer_words_gg:\n",
    "    if elt in word_freq_gg:\n",
    "        word_freq_gg[elt] += 1\n",
    "    else:\n",
    "        word_freq_gg[elt] = 1\n",
    "print(len(word_freq_gg))"
   ]
  },
  {
   "cell_type": "code",
   "execution_count": 4,
   "metadata": {
    "deletable": false,
    "editable": false,
    "nbgrader": {
     "cell_type": "code",
     "checksum": "1be2b84b70b54d25daae840d3c5a007a",
     "grade": false,
     "grade_id": "cell-ad7310bc2a593322",
     "locked": true,
     "schema_version": 3,
     "solution": false,
     "task": false
    }
   },
   "outputs": [
    {
     "name": "stdout",
     "output_type": "stream",
     "text": [
      "237611\n",
      "38777\n"
     ]
    }
   ],
   "source": [
    "# Let us load the \"War and Peace\" novel by Tolstoy translation and extract all words of length 5 or more\n",
    "filename = 'war-and-peace-tolstoy.txt'\n",
    "file = open (filename,'r')\n",
    "txt = file.read()\n",
    "txt = txt.replace('\\n',' ')\n",
    "words= txt.split(' ')\n",
    "longer_words_wp = list(filter(lambda s: len(s) >= 5, words))\n",
    "print(len(longer_words_wp))\n",
    "word_freq_wp = {}\n",
    "for elt in longer_words_wp:\n",
    "    if elt in word_freq_wp:\n",
    "        word_freq_wp[elt] += 1\n",
    "    else:\n",
    "        word_freq_wp[elt] = 1\n",
    "print(len(word_freq_wp))"
   ]
  },
  {
   "cell_type": "markdown",
   "metadata": {
    "deletable": false,
    "editable": false,
    "nbgrader": {
     "cell_type": "markdown",
     "checksum": "56e7a5e610cd3780396524e82e81003c",
     "grade": false,
     "grade_id": "cell-4a80bf43ea35608c",
     "locked": true,
     "schema_version": 3,
     "solution": false,
     "task": false
    }
   },
   "source": [
    "## Problem 1: Implement count-min sketch\n",
    "\n",
    "Implement `CountMinSketch` class below where `num_counters` is the number of counters.  You are given the constructor that already generates a random representative of a hash function family. Implement the functions:\n",
    "  - `increment`\n",
    "  - `approximateCount`.\n",
    "  \n",
    "Please read the constructor carefully: it initializes the counters and generates the hash function for you.\n",
    "Also, when you call `hash_string` function defined previously, do not forget to take result modulo m."
   ]
  },
  {
   "cell_type": "code",
   "execution_count": 5,
   "metadata": {
    "deletable": false,
    "nbgrader": {
     "cell_type": "code",
     "checksum": "031189883fee31a6a51def4aff506813",
     "grade": false,
     "grade_id": "cell-4f9b9b03abdcfe40",
     "locked": false,
     "schema_version": 3,
     "solution": true,
     "task": false
    }
   },
   "outputs": [],
   "source": [
    "# Class for implementing a count min sketch \"single bank\" of counters\n",
    "class CountMinSketch:\n",
    "    # Initialize with `num_counters`\n",
    "    def __init__ (self, num_counters):\n",
    "        self.m = num_counters\n",
    "        self.hash_fun_rep = get_random_hash_function()\n",
    "        self.counters = [0]*self.m\n",
    "\n",
    "    # function: increment \n",
    "    # given a word, increment its count in the countmin sketch\n",
    "    def increment(self, word):\n",
    "        # my code here\n",
    "        # Generate hash value for the word\n",
    "        num = hash_string(self.hash_fun_rep, word)\n",
    "        for i in range(len(self.hash_fun_rep)):\n",
    "            # Map the hash value to a counter index\n",
    "            h = (num + i) % self.m\n",
    "            self.counters[h] += 1\n",
    "\n",
    "    # function: approximateCount\n",
    "    # Given a word, get its approximate count\n",
    "    def approximateCount(self, word):\n",
    "        # my code here\n",
    "        # Generate hash value for the word\n",
    "        num = hash_string(self.hash_fun_rep, word)\n",
    "        min_count = float('inf')\n",
    "        for i in range(len(self.hash_fun_rep)):\n",
    "            # Map the hash value to a counter index\n",
    "            h = (num + i) % self.m\n",
    "            min_count = min(min_count, self.counters[h])\n",
    "        return min_count\n",
    "\n",
    "# We will now implement the algorithm for a bank of k counters\n",
    "\n",
    "# Initialize k different counters\n",
    "def initialize_k_counters(k, m): \n",
    "    return [CountMinSketch(m) for i in range(k)]\n",
    "\n",
    "# Function increment_counters\n",
    "# increment each of the individual counters with the word\n",
    "def increment_counters(count_min_sketches, word):\n",
    "    # my code here\n",
    "    for cms in count_min_sketches:\n",
    "        cms.increment(word)\n",
    "\n",
    "# Function: approximate_count\n",
    "# Get the approximate count by querying each counter bank and taking the minimum\n",
    "def approximate_count(count_min_sketches, word):\n",
    "    return min([cms.approximateCount(word) for cms in count_min_sketches])"
   ]
  },
  {
   "cell_type": "code",
   "execution_count": 6,
   "metadata": {
    "deletable": false,
    "editable": false,
    "nbgrader": {
     "cell_type": "code",
     "checksum": "9092f909c1bde4f0b80c67144ace3e49",
     "grade": true,
     "grade_id": "cell-f46918d88bcfc44c",
     "locked": true,
     "points": 10,
     "schema_version": 3,
     "solution": false,
     "task": false
    }
   },
   "outputs": [
    {
     "name": "stdout",
     "output_type": "stream",
     "text": [
      "Passed all tests: 10 points\n"
     ]
    },
    {
     "data": {
      "image/png": "[encoded data removed]",
      "text/plain": [
       "<Figure size 640x480 with 1 Axes>"
      ]
     },
     "metadata": {},
     "output_type": "display_data"
    }
   ],
   "source": [
    "%matplotlib inline\n",
    "from matplotlib import pyplot as plt \n",
    "\n",
    "# Let's see how well your solution performs for the Great Gatsby words\n",
    "cms_list = initialize_k_counters(5, 1000)\n",
    "for word in longer_words_gg:\n",
    "    increment_counters(cms_list, word)\n",
    "\n",
    "discrepancies = []\n",
    "for word in longer_words_gg:\n",
    "    l = approximate_count(cms_list, word)\n",
    "    r = word_freq_gg[word]\n",
    "    assert ( l >= r)\n",
    "    discrepancies.append( l-r )\n",
    "    \n",
    "plt.hist(discrepancies)\n",
    "\n",
    "assert(max(discrepancies) <= 200), 'The largest discrepancy must be definitely less than 200 with high probability. Please check your implementation'\n",
    "print('Passed all tests: 10 points')"
   ]
  },
  {
   "cell_type": "code",
   "execution_count": 7,
   "metadata": {
    "deletable": false,
    "editable": false,
    "nbgrader": {
     "cell_type": "code",
     "checksum": "f5f9d0e915170f181348ff78d61fac1f",
     "grade": true,
     "grade_id": "cell-592d2f3552e20599",
     "locked": true,
     "points": 5,
     "schema_version": 3,
     "solution": false,
     "task": false
    }
   },
   "outputs": [
    {
     "name": "stdout",
     "output_type": "stream",
     "text": [
      "Passed all tests: 5 points\n"
     ]
    },
    {
     "data": {
      "image/png": "[encoded data removed]",
      "text/plain": [
       "<Figure size 640x480 with 1 Axes>"
      ]
     },
     "metadata": {},
     "output_type": "display_data"
    }
   ],
   "source": [
    "# Let's see how well your solution performs for the War and Peace\n",
    "cms_list = initialize_k_counters(5, 5000)\n",
    "for word in longer_words_wp:\n",
    "    increment_counters(cms_list, word)\n",
    "\n",
    "discrepancies = []\n",
    "for word in longer_words_wp:\n",
    "    l = approximate_count(cms_list, word)\n",
    "    r = word_freq_wp[word]\n",
    "    assert ( l >= r)\n",
    "    discrepancies.append( l-r )\n",
    "\n",
    "plt.hist(discrepancies)\n",
    "print('Passed all tests: 5 points')"
   ]
  },
  {
   "cell_type": "markdown",
   "metadata": {
    "deletable": false,
    "editable": false,
    "nbgrader": {
     "cell_type": "markdown",
     "checksum": "695a620d4ee55c5fa4aa7da9ff06e626",
     "grade": false,
     "grade_id": "cell-05bbe5025159958a",
     "locked": true,
     "schema_version": 3,
     "solution": false,
     "task": false
    }
   },
   "source": [
    "### Problem 1B\n",
    "\n",
    "Check the data obtained above with calculations along the lines of what was done in class. If we had\n",
    "$5$ banks of counters  with $5000$ counters each and a uniform hash function family, what is the probability that when counting a total of $N = 2.5\\times 10^{5}$ words, we have a discrepancy by 80 or more.\n",
    "\n",
    "This problem will not be graded but simply for you to understand the calculations involved."
   ]
  },
  {
   "cell_type": "markdown",
   "metadata": {
    "deletable": false,
    "nbgrader": {
     "cell_type": "markdown",
     "checksum": "be6067bdf327e5f738dbffa50c9ce755",
     "grade": true,
     "grade_id": "cell-8a8072c81e421aee",
     "locked": false,
     "points": 0,
     "schema_version": 3,
     "solution": true,
     "task": false
    }
   },
   "source": [
    "YOUR ANSWER HERE"
   ]
  },
  {
   "cell_type": "markdown",
   "metadata": {
    "deletable": false,
    "editable": false,
    "nbgrader": {
     "cell_type": "markdown",
     "checksum": "47928f051cd28ea645c638e167be3b44",
     "grade": false,
     "grade_id": "cell-344a83e8908d1faf",
     "locked": true,
     "schema_version": 3,
     "solution": false,
     "task": false
    }
   },
   "source": [
    "## Problem 2: Using a Bloom Filter to Count Common Words.\n",
    "\n",
    "In this problem, we will implement a Bloom filter to count how many elements of `longer_words_wp` (the words of length 5 or more in War and Peace) appear in the Great-Gatsby novel.  To do so, we will do the following:\n",
    " - Instantiate a Bloom filter with number of bits `n` and number of hash functions `k`.\n",
    " - Insert all words from great-gatsby into the filter.\n",
    " - For each word from war and peace, check membership in the Bloom filter and count the number of yes answers."
   ]
  },
  {
   "cell_type": "code",
   "execution_count": 8,
   "metadata": {
    "deletable": false,
    "nbgrader": {
     "cell_type": "code",
     "checksum": "8ddf045e806dbb4e195888e8cd87d73a",
     "grade": false,
     "grade_id": "cell-fae86832b7a1eb5e",
     "locked": false,
     "schema_version": 3,
     "solution": true,
     "task": false
    }
   },
   "outputs": [],
   "source": [
    "class BloomFilter:\n",
    "    def __init__(self, nbits, nhash):\n",
    "        self.bits = [False]*nbits # Initialize all bits to fals\n",
    "        self.m = nbits\n",
    "        self.k = nhash\n",
    "        # get k random hash functions\n",
    "        self.hash_fun_reps = [get_random_hash_function() for i in range(self.k)]\n",
    "    \n",
    "    # Function to insert a word in a Bloom filter.\n",
    "    def insert(self, word):\n",
    "        # your code here\n",
    "        for hfun_rep in self.hash_fun_reps:\n",
    "            # Compute the hash for the word\n",
    "            hash_value = hash_string(hfun_rep, word)\n",
    "            # Map hash value to bit index\n",
    "            index = hash_value % self.m\n",
    "            # Set the bit to True\n",
    "            self.bits[index] = True\n",
    "        \n",
    "    # Check if a word belongs to the Bloom Filter\n",
    "    def member(self, word):\n",
    "        # your code here\n",
    "        for hfun_rep in self.hash_fun_reps:\n",
    "            # Compute the hash for the word\n",
    "            hash_value = hash_string(hfun_rep, word)\n",
    "            # Map hash value to bit index\n",
    "            index = hash_value % self.m\n",
    "            # Check if the bit is set to True\n",
    "            if not self.bits[index]:\n",
    "                return False\n",
    "        return True"
   ]
  },
  {
   "cell_type": "code",
   "execution_count": 9,
   "metadata": {
    "deletable": false,
    "editable": false,
    "nbgrader": {
     "cell_type": "code",
     "checksum": "3e6d8bde939a16edca749ffe1098aa91",
     "grade": false,
     "grade_id": "cell-92fcbb197bfe3661",
     "locked": true,
     "schema_version": 3,
     "solution": false,
     "task": false
    }
   },
   "outputs": [
    {
     "name": "stdout",
     "output_type": "stream",
     "text": [
      "Exact common word count = 124595\n"
     ]
    }
   ],
   "source": [
    "#do the exact count\n",
    "# it is a measure of how optimized python data structures are under the hood that\n",
    "# this operation finishes very quickly.\n",
    "all_words_gg = set(longer_words_gg)\n",
    "exact_common_wc = 0\n",
    "for word in longer_words_wp:\n",
    "    if word in all_words_gg:\n",
    "        exact_common_wc = exact_common_wc + 1\n",
    "print(f'Exact common word count = {exact_common_wc}')"
   ]
  },
  {
   "cell_type": "code",
   "execution_count": 10,
   "metadata": {
    "deletable": false,
    "editable": false,
    "nbgrader": {
     "cell_type": "code",
     "checksum": "350ca6a04e5883ce24905f0268d0fc12",
     "grade": true,
     "grade_id": "cell-c43547e8c520ff88",
     "locked": true,
     "points": 10,
     "schema_version": 3,
     "solution": false,
     "task": false
    }
   },
   "outputs": [
    {
     "name": "stdout",
     "output_type": "stream",
     "text": [
      "Number of common words of length >= 5 equals : 124975\n",
      "All Tests Passed: 10 points\n"
     ]
    }
   ],
   "source": [
    "# Try to use the same using a bloom filter.\n",
    "bf = BloomFilter(100000, 5)\n",
    "for word in longer_words_gg:\n",
    "    bf.insert(word)\n",
    "    \n",
    "for word in longer_words_gg:\n",
    "    assert (bf.member(word)), f'Word: {word} should be a member'\n",
    "\n",
    "common_word_count = 0\n",
    "for word in longer_words_wp:\n",
    "    if bf.member(word):\n",
    "        common_word_count= common_word_count + 1\n",
    "print(f'Number of common words of length >= 5 equals : {common_word_count}')\n",
    "assert ( common_word_count >= exact_common_wc)\n",
    "print('All Tests Passed: 10 points')"
   ]
  },
  {
   "cell_type": "markdown",
   "metadata": {
    "deletable": false,
    "editable": false,
    "nbgrader": {
     "cell_type": "markdown",
     "checksum": "a058c200be3f1999b4e8b74116969230",
     "grade": false,
     "grade_id": "cell-686a6bc365e25c35",
     "locked": true,
     "schema_version": 3,
     "solution": false,
     "task": false
    }
   },
   "source": [
    "## Problem 2 B\n",
    "\n",
    "Given a Bloom filter with $m = 100000$ bits and $k = 5$ hash functions that  map each key uniformly at random to one of the bits (assumption), estimate the probability that $k$ bits $i_1, \\ldots, i_k$ are simultaneously set when $n = 10000$ words are inserted. Assume that whether or not a particular bit is set is independent of another."
   ]
  },
  {
   "cell_type": "markdown",
   "metadata": {
    "deletable": false,
    "nbgrader": {
     "cell_type": "markdown",
     "checksum": "6d5522eb5b7340b3e1613d6842b41160",
     "grade": true,
     "grade_id": "cell-be6d976534e0936c",
     "locked": false,
     "points": 0,
     "schema_version": 3,
     "solution": true,
     "task": false
    }
   },
   "source": [
    "YOUR ANSWER HERE"
   ]
  },
  {
   "cell_type": "markdown",
   "metadata": {
    "deletable": false,
    "editable": false,
    "nbgrader": {
     "cell_type": "markdown",
     "checksum": "5d5d44dcb9fc84475835cb3bc34b5246",
     "grade": false,
     "grade_id": "cell-80241300e0a5159c",
     "locked": true,
     "schema_version": 3,
     "solution": false,
     "task": false
    }
   },
   "source": [
    "## Manually Graded Solutions\n",
    "\n",
    "### Problem 1 B \n",
    "\n",
    "\n",
    "Note that for each word we have $\\mathbb{E}( \\text{approxCount}(word) - \\text{count}(word)) \\leq \\frac{N}{m}$.\n",
    "The probability that for some word, the approximate count differs from the real one by at least $80$ for one of the counter banks is bounded by Markov Inequality as:  \n",
    "$$ \\mathbb{P}( \\text{approxCount}(word) - \\text{count}(word) \\geq 80) \\leq \\frac{\\mathbb{E}(\\text{approxCount}(word) - \\text{count}(word))}{80} \\leq \\frac{2.5\\times 10^5}{80 \\times 5000} \\approx \\frac{5}{8} $$\n",
    "\n",
    "The probability that this happens for all five counter banks is bounded by $\\left(\\frac{5}{8}\\right)^5 \\approx 0.095$\n",
    "\n",
    "\n",
    "However, this bound happens to be not so tight. Empirically, we see that this happens for roughly one word out of the nearly quarter million words in the corpus.\n",
    "\n",
    "### Problem 2 B\n",
    "\n",
    "The probability that any given bit is not set when $n$ words are inserted is \n",
    "$(1 - \\frac{1}{m})^{kn} = (1 - \\frac{1}{100000})^{5\\times 10000} = e^{-0.5}$\n",
    "\n",
    "The probability that all five bits are simultaneously set is $(1-e^{-0.5})^5 = 0.009$\n",
    "\n",
    "Therefore, we will expect the false positive rate to be roughly $1\\%$\n"
   ]
  },
  {
   "cell_type": "markdown",
   "metadata": {
    "deletable": false,
    "editable": false,
    "nbgrader": {
     "cell_type": "markdown",
     "checksum": "21327ec3f51109e1a65a2b7541dd1139",
     "grade": false,
     "grade_id": "cell-e24134f3086d63a4",
     "locked": true,
     "schema_version": 3,
     "solution": false,
     "task": false
    }
   },
   "source": [
    "## That's All Folks!"
   ]
  }
 ],
 "metadata": {
  "kernelspec": {
   "display_name": "Python 3",
   "language": "python",
   "name": "python3"
  },
  "language_info": {
   "codemirror_mode": {
    "name": "ipython",
    "version": 3
   },
   "file_extension": ".py",
   "mimetype": "text/x-python",
   "name": "python",
   "nbconvert_exporter": "python",
   "pygments_lexer": "ipython3",
   "version": "3.11.7"
  }
 },
 "nbformat": 4,
 "nbformat_minor": 5
}
